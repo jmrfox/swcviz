{
 "cells": [
  {
   "cell_type": "code",
   "execution_count": 8,
   "id": "55209df5",
   "metadata": {},
   "outputs": [
    {
     "name": "stdout",
     "output_type": "stream",
     "text": [
      "Help on function parse_swc in module swcviz.io:\n",
      "\n",
      "parse_swc(source: 'Union[str, os.PathLike, Iterable[str], io.TextIOBase]', *, strict: 'bool' = True, validate_reconnections: 'bool' = True, float_tol: 'float' = 1e-09) -> 'SWCParseResult'\n",
      "    Parse an SWC file or text stream.\n",
      "\n",
      "    Parameters\n",
      "    ----------\n",
      "    source\n",
      "        Path to an SWC file, a file-like object, an iterable of lines, or a string\n",
      "        containing SWC content.\n",
      "    strict\n",
      "        If True, enforce 7-column rows and validate parent references exist.\n",
      "    validate_reconnections\n",
      "        If True, ensure reconnection node pairs share identical (x, y, z, r).\n",
      "    float_tol\n",
      "        Tolerance used when comparing floating-point coordinates/radii.\n",
      "\n",
      "    Returns\n",
      "    -------\n",
      "    SWCParseResult\n",
      "        Parsed records, reconnection pairs, and collected comments.\n",
      "\n",
      "    Raises\n",
      "    ------\n",
      "    ValueError\n",
      "        If parsing or validation fails.\n",
      "    FileNotFoundError\n",
      "        If a string path is provided that does not exist.\n",
      "\n"
     ]
    }
   ],
   "source": [
    "import sys\n",
    "sys.path.append(\"..\")\n",
    "from swcviz import parse_swc\n",
    "help(parse_swc)"
   ]
  }
 ],
 "metadata": {
  "kernelspec": {
   "display_name": ".venv",
   "language": "python",
   "name": "python3"
  },
  "language_info": {
   "codemirror_mode": {
    "name": "ipython",
    "version": 3
   },
   "file_extension": ".py",
   "mimetype": "text/x-python",
   "name": "python",
   "nbconvert_exporter": "python",
   "pygments_lexer": "ipython3",
   "version": "3.12.11"
  }
 },
 "nbformat": 4,
 "nbformat_minor": 5
}
